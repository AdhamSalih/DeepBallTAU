{
  "nbformat": 4,
  "nbformat_minor": 0,
  "metadata": {
    "colab": {
      "name": "ModelsEvaluation(excluding MF).ipynb",
      "provenance": [],
      "collapsed_sections": [],
      "machine_shape": "hm",
      "include_colab_link": true
    },
    "kernelspec": {
      "name": "python3",
      "display_name": "Python 3"
    },
    "accelerator": "GPU"
  },
  "cells": [
    {
      "cell_type": "markdown",
      "metadata": {
        "id": "view-in-github",
        "colab_type": "text"
      },
      "source": [
        "<a href=\"https://colab.research.google.com/github/AdhamSalih/DeepBallTAU/blob/master/ModelsEvaluation(excluding_MF).ipynb\" target=\"_parent\"><img src=\"https://colab.research.google.com/assets/colab-badge.svg\" alt=\"Open In Colab\"/></a>"
      ]
    },
    {
      "cell_type": "markdown",
      "metadata": {
        "id": "1kFIzl0GBOyf",
        "colab_type": "text"
      },
      "source": [
        "#**Project - Training Deep Network for ball detection with pytorch**\n",
        "This Project includes an evaluation of four models for Ball Detection\n",
        "1. DeepBall \n",
        "2. DeepBall with classification layer\n",
        "3. DeepBall - with relaxed loss\n",
        "4. DeepBall with classification layer - with relaxed loss"
      ]
    },
    {
      "cell_type": "markdown",
      "metadata": {
        "id": "CEZ3m2GhBgNm",
        "colab_type": "text"
      },
      "source": [
        "# General setup"
      ]
    },
    {
      "cell_type": "markdown",
      "metadata": {
        "id": "QTOgPtP3B2kS",
        "colab_type": "text"
      },
      "source": [
        "Mounting the drive"
      ]
    },
    {
      "cell_type": "code",
      "metadata": {
        "id": "gwJZje-cBe7k",
        "colab_type": "code",
        "outputId": "58eb30fa-4460-49dd-de5b-93910d4c5d97",
        "colab": {
          "base_uri": "https://localhost:8080/",
          "height": 131
        }
      },
      "source": [
        "from google.colab import drive, files\n",
        "drive.mount(\"/content/drive\")\n",
        "folderpath = '/content/drive/My Drive/Project_300746930_034915504/'\n"
      ],
      "execution_count": 0,
      "outputs": [
        {
          "output_type": "stream",
          "text": [
            "Go to this URL in a browser: https://accounts.google.com/o/oauth2/auth?client_id=947318989803-6bn6qk8qdgf4n4g3pfee6491hc0brc4i.apps.googleusercontent.com&redirect_uri=urn%3aietf%3awg%3aoauth%3a2.0%3aoob&response_type=code&scope=email%20https%3a%2f%2fwww.googleapis.com%2fauth%2fdocs.test%20https%3a%2f%2fwww.googleapis.com%2fauth%2fdrive%20https%3a%2f%2fwww.googleapis.com%2fauth%2fdrive.photos.readonly%20https%3a%2f%2fwww.googleapis.com%2fauth%2fpeopleapi.readonly\n",
            "\n",
            "Enter your authorization code:\n",
            "··········\n",
            "Mounted at /content/drive\n"
          ],
          "name": "stdout"
        }
      ]
    },
    {
      "cell_type": "markdown",
      "metadata": {
        "id": "ZAVRC_DPCGi3",
        "colab_type": "text"
      },
      "source": [
        "Installing all the needed lib."
      ]
    },
    {
      "cell_type": "code",
      "metadata": {
        "id": "PRIKSpV2mfw5",
        "colab_type": "code",
        "colab": {}
      },
      "source": [
        "# !pip install torch numpy torchvision matplotlib tabulate\n",
        "import torch\n",
        "import torch.nn as nn\n",
        "import torch.nn.functional as F\n",
        "from torch.utils.data import Dataset, DataLoader, TensorDataset\n",
        "from torchvision import transforms, utils, datasets\n",
        "import matplotlib.pyplot as plt\n",
        "from matplotlib.patches import Circle\n",
        "import numpy as np\n",
        "from tabulate import tabulate\n",
        "import pickle\n",
        "import cv2\n"
      ],
      "execution_count": 0,
      "outputs": []
    },
    {
      "cell_type": "markdown",
      "metadata": {
        "id": "AoDvx0aTGxPi",
        "colab_type": "text"
      },
      "source": [
        "#Dataset Loading"
      ]
    },
    {
      "cell_type": "code",
      "metadata": {
        "id": "n8dNYjnmQRpO",
        "colab_type": "code",
        "outputId": "10bc807c-f9ae-46b3-9574-af969cf99c95",
        "colab": {
          "base_uri": "https://localhost:8080/",
          "height": 54
        }
      },
      "source": [
        "idx = 0\n",
        "train_batch = pickle.load( open( folderpath + \"Dataset/test/test_batch_file\" + str(idx)+\".data\", \"rb\" ) )\n",
        "Images = train_batch[0]\n",
        "Labels = train_batch[1][:,0]\n",
        "while idx < 2:\n",
        "  idx += 1\n",
        "  train_batch = pickle.load( open( folderpath + \"Dataset/test/test_batch_file\"+str(idx)+\".data\", \"rb\" ) )\n",
        "  Images = torch.cat((Images,train_batch[0]))\n",
        "  Labels = torch.cat((Labels,train_batch[1][:,0]))\n",
        "  print(idx)\n",
        "  del train_batch\n",
        "test_dataset = TensorDataset(Images,Labels)\n",
        "del Images,Labels"
      ],
      "execution_count": 0,
      "outputs": [
        {
          "output_type": "stream",
          "text": [
            "1\n",
            "2\n"
          ],
          "name": "stdout"
        }
      ]
    },
    {
      "cell_type": "markdown",
      "metadata": {
        "id": "gqn09R3rDFJj",
        "colab_type": "text"
      },
      "source": [
        "**Hyperparameters**"
      ]
    },
    {
      "cell_type": "code",
      "metadata": {
        "id": "TRUJHIsjDIQ3",
        "colab_type": "code",
        "outputId": "28a1d64f-a002-4607-c7cd-245199e2c6bb",
        "colab": {
          "base_uri": "https://localhost:8080/",
          "height": 36
        }
      },
      "source": [
        "device = torch.device(\"cuda:0\" if torch.cuda.is_available() else \"cpu\")\n",
        "if device != \"cpu\":\n",
        "  print(\"GPU is available\")\n",
        "else:\n",
        "  print(\"Work on CPU\")\n",
        "BN = True\n",
        "DP = 0.2"
      ],
      "execution_count": 0,
      "outputs": [
        {
          "output_type": "stream",
          "text": [
            "GPU is available\n"
          ],
          "name": "stdout"
        }
      ]
    },
    {
      "cell_type": "markdown",
      "metadata": {
        "id": "kUYWBRDZeta2",
        "colab_type": "text"
      },
      "source": [
        "# Network Classes"
      ]
    },
    {
      "cell_type": "markdown",
      "metadata": {
        "id": "CLVCGe1cXlY3",
        "colab_type": "text"
      },
      "source": [
        "DeepBall"
      ]
    },
    {
      "cell_type": "code",
      "metadata": {
        "id": "1U-pHydMDeUI",
        "colab_type": "code",
        "colab": {}
      },
      "source": [
        "class DeepBall(nn.Module):\n",
        "    def __init__(self):\n",
        "        super(DeepBall, self).__init__()\n",
        "        # the 1st conv. block \n",
        "        self.conv11 = nn.Conv2d(3, 8, 3,stride=2,padding=1)\n",
        "        self.conv12 = nn.Conv2d(8, 8, 3,stride=1,padding=1) \n",
        "        \n",
        "         # pooling size 2\n",
        "        self.pool = nn.MaxPool2d(2, 2) \n",
        "\n",
        "        # the 2nd conv. block \n",
        "        self.conv21 = nn.Conv2d(8, 16, 3,padding=1)\n",
        "        self.conv22 = nn.Conv2d(16, 16, 3,padding=1)\n",
        "        \n",
        "        # the 3rd conv. block \n",
        "        self.conv31 = nn.Conv2d(16, 32, 3,padding=1)\n",
        "        self.conv32 = nn.Conv2d(32, 32, 3,padding=1)\n",
        "        \n",
        "        # the 4th conv. block \n",
        "        self.conv41 = nn.Conv2d(56, 56, 3,padding=1)\n",
        "        self.conv42 = nn.Conv2d(56, 2, 3,padding=1)\n",
        "        \n",
        "        # Upsampling\n",
        "        self.ups24 = nn.Upsample(scale_factor=2)\n",
        "        self.ups34 = nn.Upsample(scale_factor=4)\n",
        "        \n",
        "        self.bn11 = nn.BatchNorm2d(8)\n",
        "        self.bn12 = nn.BatchNorm2d(8)\n",
        "        self.bn21 = nn.BatchNorm2d(16)\n",
        "        self.bn22 = nn.BatchNorm2d(16)\n",
        "        self.bn31 = nn.BatchNorm2d(32)\n",
        "        self.bn32 = nn.BatchNorm2d(32)\n",
        "        self.bn41 = nn.BatchNorm2d(56)\n",
        "        self.bn42 = nn.BatchNorm2d(2)\n",
        "        \n",
        "    def forward(self, x):\n",
        "      # 1st block\n",
        "      if x.size()[2]!=272 or x.size()[3]!=480:\n",
        "        x = F.interpolate(x, size=(272,480))\n",
        "      \n",
        "      x1 = F.relu(self.bn11(self.conv11(x)))\n",
        "      x1 = F.relu(self.bn12(self.conv12(x1)))\n",
        "      x1 = self.pool(x1)\n",
        "      \n",
        "      # 2nd Block\n",
        "      x2 = F.relu(self.bn21(self.conv21(x1)))\n",
        "      x2 = F.relu(self.bn22(self.conv22(x2)))\n",
        "      x2 = self.pool(x2)\n",
        "      \n",
        "      # 3rd Block\n",
        "      x3 = F.relu(self.bn31(self.conv31(x2)))\n",
        "      x3 = F.relu(self.bn32(self.conv32(x3)))\n",
        "      x3 = self.pool(x3)\n",
        "\n",
        "      # 4th Block\n",
        "      x2 = self.ups24(x2)\n",
        "      x3 = self.ups34(x3)\n",
        "      x4 = torch.cat([x2,x3,x1],dim=1)\n",
        "      x4 = F.relu(self.bn41(self.conv41(x4)))\n",
        "      x4 = F.relu(self.bn42(self.conv42(x4)))  \n",
        "      \n",
        "      out = F.log_softmax(x4,dim=1)\n",
        "      if out.size()[2]!=68 or out.size()[3]!=120:\n",
        "        out = F.interpolate(out, size=(68,120))\n",
        "      del x1,x2,x3,x4\n",
        "      torch.cuda.empty_cache()\n",
        "      return out"
      ],
      "execution_count": 0,
      "outputs": []
    },
    {
      "cell_type": "markdown",
      "metadata": {
        "id": "J3cjs4esinF9",
        "colab_type": "text"
      },
      "source": [
        "C-DeepBall"
      ]
    },
    {
      "cell_type": "code",
      "metadata": {
        "id": "G6YJtOWffUiy",
        "colab_type": "code",
        "colab": {}
      },
      "source": [
        "class DeepBallClass(nn.Module):\n",
        "    def __init__(self, BN = True,DP = 0):\n",
        "        super(DeepBallClass, self).__init__()\n",
        "        self.BN = BN\n",
        "        self.DP = DP\n",
        "        # the 1st conv. block \n",
        "        self.conv11 = nn.Conv2d(3, 8, 3,stride=2,padding=1)\n",
        "        \n",
        "        self.conv12 = nn.Conv2d(8, 8, 3,stride=1,padding=1) \n",
        "        \n",
        "         # pooling size 2\n",
        "        self.pool = nn.MaxPool2d(2, 2) \n",
        "\n",
        "        # the 2nd conv. block \n",
        "        self.conv21 = nn.Conv2d(8, 16, 3,padding=1)\n",
        "        \n",
        "        self.conv22 = nn.Conv2d(16, 16, 3,padding=1)\n",
        "        \n",
        "        # the 3rd conv. block \n",
        "        self.conv31 = nn.Conv2d(16, 32, 3,padding=1)\n",
        "        \n",
        "        self.conv32 = nn.Conv2d(32, 32, 3,padding=1)\n",
        "        \n",
        "        # the 4th conv. block \n",
        "        self.conv41 = nn.Conv2d(56, 56, 3,padding=1)\n",
        "        \n",
        "        self.conv42 = nn.Conv2d(56, 2, 3,padding=1)\n",
        "        \n",
        "        # Upsampling\n",
        "        self.ups24 = nn.Upsample(scale_factor=2)\n",
        "        self.ups34 = nn.Upsample(scale_factor=4)\n",
        "        if BN:\n",
        "          self.bn11 = nn.BatchNorm2d(8)\n",
        "          self.bn12 = nn.BatchNorm2d(8)\n",
        "          self.bn21 = nn.BatchNorm2d(16)\n",
        "          self.bn22 = nn.BatchNorm2d(16)\n",
        "          self.bn31 = nn.BatchNorm2d(32)\n",
        "          self.bn32 = nn.BatchNorm2d(32)\n",
        "          self.bn41 = nn.BatchNorm2d(56)\n",
        "          self.bn42 = nn.BatchNorm2d(2)\n",
        "        if DP > 0:\n",
        "          self.dropout2d = nn.Dropout2d(p=DP)\n",
        "        \n",
        "        self.fc1 = nn.Linear(32*30*17,200)\n",
        "        self.fc2 = nn.Linear(200,1)\n",
        "        # self.sm = nn.Sigmoid()\n",
        "\n",
        "    def forward(self, x):\n",
        "      # 1st block\n",
        "      BN = self.BN\n",
        "      DP = self.DP\n",
        "      if x.size()[2]!=272 or x.size()[3]!=480:\n",
        "        x = F.interpolate(x, size=(272,480))\n",
        "      if BN:\n",
        "        x1 = F.relu(self.bn11(self.conv11(x)))\n",
        "        if DP > 0:\n",
        "          x1 = self.dropout2d(x1)\n",
        "        x1 = F.relu(self.bn12(self.conv12(x1)))\n",
        "        if DP > 0:\n",
        "          x1 = self.dropout2d(x1)\n",
        "      else:\n",
        "        x1 = F.relu(self.conv11(x))\n",
        "        if DP > 0:\n",
        "          x1 = self.dropout2d(x1)\n",
        "        x1 = F.relu(self.conv12(x1))\n",
        "        if DP > 0:\n",
        "          x1 = self.dropout2d(x1)\n",
        "      x1 = self.pool(x1)\n",
        "      \n",
        "      # 2nd Block\n",
        "      if BN:\n",
        "        x2 = F.relu(self.bn21(self.conv21(x1)))\n",
        "        if DP > 0:\n",
        "          x2 = self.dropout2d(x2)\n",
        "        x2 = F.relu(self.bn22(self.conv22(x2)))\n",
        "        if DP > 0:\n",
        "          x2 = self.dropout2d(x2)\n",
        "      else:\n",
        "        x2 = F.relu(self.conv21(x1))\n",
        "        if DP > 0:\n",
        "          x2 = self.dropout2d(x2)\n",
        "        x2 = F.relu(self.conv22(x2))\n",
        "        if DP > 0:\n",
        "          x2 = self.dropout2d(x2)\n",
        "      \n",
        "      # print(x2.size())\n",
        "      x2 = self.pool(x2)\n",
        "      \n",
        "      # 3rd Block\n",
        "      if BN:\n",
        "        x3 = F.relu(self.bn31(self.conv31(x2)))\n",
        "        if DP > 0:\n",
        "          x3 = self.dropout2d(x3)\n",
        "        x3 = F.relu(self.bn32(self.conv32(x3)))\n",
        "        if DP > 0:\n",
        "          x3 = self.dropout2d(x3)\n",
        "      else:\n",
        "        x3 = F.relu(self.conv31(x2))\n",
        "        if DP > 0:\n",
        "          x3 = self.dropout2d(x3)\n",
        "        x3 = F.relu(self.conv32(x3))\n",
        "        if DP > 0:\n",
        "          x3 = self.dropout2d(x3)\n",
        "      # print(x3.size())\n",
        "      x3 = self.pool(x3)\n",
        "      # print(x3.size())\n",
        "      # 4th Block\n",
        "      x2 = self.ups24(x2)\n",
        "      x3u = self.ups34(x3)\n",
        "      # print(x3up.size(),x2up.size(),x1.size())\n",
        "      x4 = torch.cat([x2,x3u,x1],dim=1)\n",
        "      if BN:\n",
        "        x4 = F.relu(self.bn41(self.conv41(x4)))\n",
        "        if DP > 0:\n",
        "          x4 = self.dropout2d(x4)\n",
        "        x4 = F.relu(self.bn42(self.conv42(x4)))\n",
        "        if DP > 0:\n",
        "          x4 = self.dropout2d(x4)\n",
        "      else:\n",
        "        x4 = F.relu(self.conv41(x4))\n",
        "        if DP > 0:\n",
        "          x4 = self.dropout2d(x4)\n",
        "        x4 = F.relu(self.conv42(x4))\n",
        "        if DP > 0:\n",
        "          x4 = self.dropout2d(x4)\n",
        "        \n",
        "      out = F.log_softmax(x4,dim=1)\n",
        "      x3 = x3.view(-1,32*30*17)\n",
        "      x3 = self.fc2(F.relu(self.fc1(x3)))\n",
        "      Cout = torch.sigmoid(x3)\n",
        "      if out.size()[2]!=68 or out.size()[3]!=120:\n",
        "        out = F.interpolate(out, size=(68,120))\n",
        "      # print(out.size())\n",
        "      del x1,x2,x3,x4\n",
        "      torch.cuda.empty_cache()\n",
        "      return out,Cout"
      ],
      "execution_count": 0,
      "outputs": []
    },
    {
      "cell_type": "markdown",
      "metadata": {
        "id": "iYbslESWdyGB",
        "colab_type": "text"
      },
      "source": [
        "Evaluation Function"
      ]
    },
    {
      "cell_type": "code",
      "metadata": {
        "id": "sK96fsFjdvcs",
        "colab_type": "code",
        "colab": {}
      },
      "source": [
        "def evaluate(model,data,modeltype):\n",
        "  model.eval()\n",
        "  Theta = []\n",
        "  Acc = []\n",
        "  theta = 0.94\n",
        "  dtheta = 0.0004\n",
        "  while theta < 1-0.0008 :\n",
        "    \n",
        "    theta = theta + dtheta\n",
        "    acc = np.zeros(len(data), dtype=np.int16)\n",
        "    # print(acc.sum())\n",
        "    for i, (img, label) in enumerate(data):\n",
        "      with torch.no_grad():\n",
        "        Real_clas = np.max(label.cpu().numpy())>0\n",
        "        real_pos = np.array(np.unravel_index(np.argmax(label.cpu().numpy(), axis=None), label.cpu().numpy().shape))\n",
        "        img = (img.view(1,3,272,480)).to(device)\n",
        "        if modeltype == 1:\n",
        "          Mask, Cout= model(img.float()/255.0)\n",
        "          Mask = torch.exp(Mask)\n",
        "          a = Mask[0][0].cpu().numpy()\n",
        "          pos = np.array(np.unravel_index(np.argmax(a, axis=None), a.shape))\n",
        "          # p = a.max()*\n",
        "          p = a.max()*Cout.cpu().numpy()\n",
        "        else:\n",
        "          Mask = model(img.float()/255.0)\n",
        "          Mask = torch.exp(Mask)\n",
        "          a = Mask[0][0].cpu().numpy()\n",
        "          pos = np.array(np.unravel_index(np.argmax(a, axis=None), a.shape))\n",
        "          p = a.max()\n",
        "        # print(p, theta, pos,real_pos)\n",
        "        if Real_clas:\n",
        "          if (p>=theta) and np.max(np.abs(real_pos-pos)) < 5:\n",
        "            acc[i] = 1\n",
        "        else:\n",
        "          if (p<theta):\n",
        "            acc[i] = 1\n",
        "    # print(theta, acc.mean())\n",
        "    \n",
        "    Theta.append(theta)\n",
        "    Acc.append(acc.mean())\n",
        "    print(theta*100)\n",
        "  Acc = np.array(Acc)\n",
        "  # print(Acc)\n",
        "  # Theta = np.array(Thr)\n",
        "  maxIdx = Acc.argmax()\n",
        "  mTheta = Theta[maxIdx]\n",
        "  mAcc = Acc.max()\n",
        "  plt.figure(figsize=(15,10))\n",
        "  plt.plot(Theta,Acc)\n",
        "  plt.ylabel('Acc')\n",
        "  plt.xlabel('theta')\n",
        "  plt.grid(True)\n",
        "  \n",
        "  return mTheta, mAcc"
      ],
      "execution_count": 0,
      "outputs": []
    },
    {
      "cell_type": "markdown",
      "metadata": {
        "id": "de55CM4fT9Wm",
        "colab_type": "text"
      },
      "source": [
        "Calculating accu."
      ]
    },
    {
      "cell_type": "code",
      "metadata": {
        "id": "uVn5BePrlHar",
        "colab_type": "code",
        "colab": {}
      },
      "source": [
        "DeepBallmodel = DeepBall().to(device)\n",
        "DeepBallmodel.load_state_dict(torch.load(folderpath+'models/DeepBallmodel.pt')) #load the last checkpoint\n",
        "mTheta, mAcc = evaluate(DeepBallmodel,test_dataset,2)\n",
        "plt.title('DeepBall Model')\n",
        "plt.show()\n",
        "print(mTheta, mAcc)\n",
        "\n",
        "C_DeepBallmodel = DeepBallClass(DP = 0.2).to(device)\n",
        "C_DeepBallmodel.load_state_dict(torch.load(folderpath+'models/DeepBallclassmodel.pt')) #load the last checkpoint\n",
        "CmTheta, CmAcc = evaluate(C_DeepBallmodel,test_dataset,1)\n",
        "plt.title('C-DeepBall Model')\n",
        "plt.show()\n",
        "print(CmTheta, CmAcc)\n",
        "\n",
        "CR_DeepBallmodel = DeepBallClass(DP = 0.2).to(device)\n",
        "CR_DeepBallmodel.load_state_dict(torch.load(folderpath+'models/DeepBallclassmodel_r.pt')) #load the last checkpoint\n",
        "CRmTheta, CRmAcc = evaluate(CR_DeepBallmodel,test_dataset,1)\n",
        "plt.title('CR-DeepBall Model')\n",
        "plt.show()\n",
        "print(CRmTheta, CRmAcc)\n",
        "\n",
        "R_DeepBallmodel = DeepBall().to(device)\n",
        "R_DeepBallmodel.load_state_dict(torch.load(folderpath+'models/DeepBallmodel_r.pt')) #load the last checkpoint\n",
        "RmTheta, RmAcc = evaluate(R_DeepBallmodel,test_dataset,2)\n",
        "plt.title('R-DeepBall Model')\n",
        "plt.show()\n",
        "print(RmTheta, RmAcc)\n"
      ],
      "execution_count": 0,
      "outputs": []
    },
    {
      "cell_type": "markdown",
      "metadata": {
        "id": "eUAF0QnsUEDl",
        "colab_type": "text"
      },
      "source": [
        "Calcolate the acc with balls"
      ]
    },
    {
      "cell_type": "code",
      "metadata": {
        "id": "KKEy8YU8eN_i",
        "colab_type": "code",
        "colab": {}
      },
      "source": [
        "def evaluate_pos(model,data,modeltype):\n",
        "  model.eval()\n",
        "  iteration = 0\n",
        "  acc = 0\n",
        "  # print(acc.sum())\n",
        "  for i, (img, label) in enumerate(data):\n",
        "    with torch.no_grad():\n",
        "      Real_clas = np.max(label.cpu().numpy())>0\n",
        "      real_pos = np.array(np.unravel_index(np.argmax(label.cpu().numpy(), axis=None), label.cpu().numpy().shape))\n",
        "      img = (img.view(1,3,272,480)).to(device)\n",
        "      if modeltype == 1:\n",
        "        Mask, Cout= model(img.float()/255.0)\n",
        "        Mask = torch.exp(Mask)\n",
        "        a = Mask[0][0].cpu().numpy()\n",
        "        pos = np.array(np.unravel_index(np.argmax(a, axis=None), a.shape))\n",
        "        # p = a.max()*\n",
        "        p = a.max()*Cout.cpu().numpy()\n",
        "      else:\n",
        "        Mask = model(img.float()/255.0)\n",
        "        Mask = torch.exp(Mask)\n",
        "        a = Mask[0][0].cpu().numpy()\n",
        "        pos = np.array(np.unravel_index(np.argmax(a, axis=None), a.shape))\n",
        "        p = a.max()\n",
        "      # print(p, theta, pos,real_pos)\n",
        "      \n",
        "      if Real_clas:\n",
        "        iteration += 1\n",
        "        if np.max(np.abs(real_pos-pos)) < 5:\n",
        "          acc += 1\n",
        "  print('>> Acc: {:.3f}, with_ball  {}/{} '.format(acc/iteration*100, iteration,len(data)))  \n",
        "  return acc/iteration"
      ],
      "execution_count": 0,
      "outputs": []
    },
    {
      "cell_type": "code",
      "metadata": {
        "id": "70ZYybXsfDLK",
        "colab_type": "code",
        "outputId": "6998879e-4e03-442b-fe90-fbed89870979",
        "colab": {
          "base_uri": "https://localhost:8080/",
          "height": 92
        }
      },
      "source": [
        "DeepBallmodel = DeepBall().to(device)\n",
        "DeepBallmodel.load_state_dict(torch.load(folderpath+'models/DeepBallmodel.pt')) #load the last checkpoint\n",
        "TruAcc = evaluate_pos(DeepBallmodel,test_dataset,2)\n",
        "# print(TruAcc)\n",
        "\n",
        "C_DeepBallmodel = DeepBallClass(DP = 0.2).to(device)\n",
        "C_DeepBallmodel.load_state_dict(torch.load(folderpath+'models/DeepBallclassmodel.pt')) #load the last checkpoint\n",
        "CTruAcc = evaluate_pos(C_DeepBallmodel,test_dataset,1)\n",
        "# print(CTruAcc)\n",
        "\n",
        "R_DeepBallmodel = DeepBall().to(device)\n",
        "R_DeepBallmodel.load_state_dict(torch.load(folderpath+'models/DeepBallmodel_r.pt')) #load the last checkpoint\n",
        "RTruAcc = evaluate_pos(R_DeepBallmodel,test_dataset,2)\n",
        "# print(RTruAcc)\n",
        "\n",
        "CR_DeepBallmodel = DeepBallClass(DP = 0.2).to(device)\n",
        "CR_DeepBallmodel.load_state_dict(torch.load(folderpath+'models/DeepBallclassmodel_r.pt')) #load the last checkpoint\n",
        "CRTruAcc = evaluate_pos(CR_DeepBallmodel,test_dataset,1)\n",
        "# print(CRTruAcc)"
      ],
      "execution_count": 0,
      "outputs": [
        {
          "output_type": "stream",
          "text": [
            ">> Acc: 72.408, with_ball  569/5990 \n",
            ">> Acc: 81.547, with_ball  569/5990 \n",
            ">> Acc: 75.747, with_ball  569/5990 \n",
            ">> Acc: 80.844, with_ball  569/5990 \n"
          ],
          "name": "stdout"
        }
      ]
    },
    {
      "cell_type": "markdown",
      "metadata": {
        "id": "YuQOx2Mgyj3m",
        "colab_type": "text"
      },
      "source": [
        "Results in Table"
      ]
    },
    {
      "cell_type": "code",
      "metadata": {
        "id": "YFMrDnFiykba",
        "colab_type": "code",
        "colab": {}
      },
      "source": [
        "T = tabulate([['DeepBall',mTheta, mAcc, TruAcc],\n",
        "              ['C-DeepBall',CmTheta, CmAcc, CTruAcc], \n",
        "              ['R-DeepBall',RmTheta, RmAcc, RTruAcc],\n",
        "              ['CR-DeepBall',CRmTheta, CRmAcc, CRTruAcc]]\n",
        "             ,headers=['Model', 'Threshold', 'Accuracy'. 'pos Accuracy'])\n",
        "print(T)"
      ],
      "execution_count": 0,
      "outputs": []
    }
  ]
}
